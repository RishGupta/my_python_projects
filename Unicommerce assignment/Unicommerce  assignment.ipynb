{
 "cells": [
  {
   "cell_type": "code",
   "execution_count": 67,
   "id": "291a6c36",
   "metadata": {},
   "outputs": [],
   "source": [
    "import pandas as pd\n",
    "import warnings\n",
    "warnings.filterwarnings('ignore')"
   ]
  },
  {
   "cell_type": "code",
   "execution_count": 68,
   "id": "0d9dd9a1",
   "metadata": {},
   "outputs": [],
   "source": [
    "### importing the data into dataframes\n",
    "order_data = pd.read_excel('unicommerce_data.xlsx', sheet_name = 'order_data')\n",
    "category_data = pd.read_excel('unicommerce_data.xlsx', sheet_name  = 'category_data')"
   ]
  },
  {
   "cell_type": "code",
   "execution_count": 69,
   "id": "b78b334e",
   "metadata": {},
   "outputs": [
    {
     "data": {
      "text/html": [
       "<div>\n",
       "<style scoped>\n",
       "    .dataframe tbody tr th:only-of-type {\n",
       "        vertical-align: middle;\n",
       "    }\n",
       "\n",
       "    .dataframe tbody tr th {\n",
       "        vertical-align: top;\n",
       "    }\n",
       "\n",
       "    .dataframe thead th {\n",
       "        text-align: right;\n",
       "    }\n",
       "</style>\n",
       "<table border=\"1\" class=\"dataframe\">\n",
       "  <thead>\n",
       "    <tr style=\"text-align: right;\">\n",
       "      <th></th>\n",
       "      <th>sku_code</th>\n",
       "      <th>order_count</th>\n",
       "    </tr>\n",
       "  </thead>\n",
       "  <tbody>\n",
       "    <tr>\n",
       "      <th>0</th>\n",
       "      <td>805L</td>\n",
       "      <td>185</td>\n",
       "    </tr>\n",
       "    <tr>\n",
       "      <th>1</th>\n",
       "      <td>JR-202-38</td>\n",
       "      <td>32</td>\n",
       "    </tr>\n",
       "    <tr>\n",
       "      <th>2</th>\n",
       "      <td>K1786_L</td>\n",
       "      <td>69</td>\n",
       "    </tr>\n",
       "    <tr>\n",
       "      <th>3</th>\n",
       "      <td>FDRSS1744XL</td>\n",
       "      <td>6</td>\n",
       "    </tr>\n",
       "    <tr>\n",
       "      <th>4</th>\n",
       "      <td>BMAXBLUSQAR</td>\n",
       "      <td>56</td>\n",
       "    </tr>\n",
       "  </tbody>\n",
       "</table>\n",
       "</div>"
      ],
      "text/plain": [
       "      sku_code  order_count\n",
       "0         805L          185\n",
       "1    JR-202-38           32\n",
       "2      K1786_L           69\n",
       "3  FDRSS1744XL            6\n",
       "4  BMAXBLUSQAR           56"
      ]
     },
     "execution_count": 69,
     "metadata": {},
     "output_type": "execute_result"
    }
   ],
   "source": [
    "order_data.head()"
   ]
  },
  {
   "cell_type": "code",
   "execution_count": 70,
   "id": "77c4be88",
   "metadata": {},
   "outputs": [
    {
     "data": {
      "text/html": [
       "<div>\n",
       "<style scoped>\n",
       "    .dataframe tbody tr th:only-of-type {\n",
       "        vertical-align: middle;\n",
       "    }\n",
       "\n",
       "    .dataframe tbody tr th {\n",
       "        vertical-align: top;\n",
       "    }\n",
       "\n",
       "    .dataframe thead th {\n",
       "        text-align: right;\n",
       "    }\n",
       "</style>\n",
       "<table border=\"1\" class=\"dataframe\">\n",
       "  <thead>\n",
       "    <tr style=\"text-align: right;\">\n",
       "      <th></th>\n",
       "      <th>category_id</th>\n",
       "      <th>category</th>\n",
       "      <th>sku_code</th>\n",
       "    </tr>\n",
       "  </thead>\n",
       "  <tbody>\n",
       "    <tr>\n",
       "      <th>0</th>\n",
       "      <td>4</td>\n",
       "      <td>Fashion &amp; Accessories</td>\n",
       "      <td>538XL</td>\n",
       "    </tr>\n",
       "    <tr>\n",
       "      <th>1</th>\n",
       "      <td>4</td>\n",
       "      <td>Fashion &amp; Accessories</td>\n",
       "      <td>JR-LK-SideB-Lux-9017-NBlue-44</td>\n",
       "    </tr>\n",
       "    <tr>\n",
       "      <th>2</th>\n",
       "      <td>4</td>\n",
       "      <td>Fashion &amp; Accessories</td>\n",
       "      <td>L766L</td>\n",
       "    </tr>\n",
       "    <tr>\n",
       "      <th>3</th>\n",
       "      <td>4</td>\n",
       "      <td>Fashion &amp; Accessories</td>\n",
       "      <td>K1612_L</td>\n",
       "    </tr>\n",
       "    <tr>\n",
       "      <th>4</th>\n",
       "      <td>4</td>\n",
       "      <td>Fashion &amp; Accessories</td>\n",
       "      <td>OCRM012TQG-XXL</td>\n",
       "    </tr>\n",
       "  </tbody>\n",
       "</table>\n",
       "</div>"
      ],
      "text/plain": [
       "   category_id               category                       sku_code\n",
       "0            4  Fashion & Accessories                          538XL\n",
       "1            4  Fashion & Accessories  JR-LK-SideB-Lux-9017-NBlue-44\n",
       "2            4  Fashion & Accessories                          L766L\n",
       "3            4  Fashion & Accessories                        K1612_L\n",
       "4            4  Fashion & Accessories                 OCRM012TQG-XXL"
      ]
     },
     "execution_count": 70,
     "metadata": {},
     "output_type": "execute_result"
    }
   ],
   "source": [
    "category_data.head()"
   ]
  },
  {
   "cell_type": "markdown",
   "id": "ff0ed95b",
   "metadata": {},
   "source": [
    "##### Q1. Find top 3 selling SKUs and bottom 3 selling SKUs in each category. Attach the SQL query used to extract this metric. (Exclude SKUs whose category data is missing) \n",
    "\n",
    "\n",
    "##### Answer :\n",
    "\n"
   ]
  },
  {
   "cell_type": "raw",
   "id": "f9b51ebd",
   "metadata": {},
   "source": [
    "with basetable as (\n",
    "select sku_code, order_count, category, category_id from (\n",
    "select order_data.sku_code, order_data.order_count, category_data.category, category_data.category_id\n",
    "from order_data\n",
    "inner join category_data\n",
    "on order_data.sku_code  = category_data.sku_code\n",
    ") where category is not null \n",
    "), \n",
    "\n",
    "top as (\n",
    "\n",
    "select category_id, category, string_agg(sku_code, ',') as top_sku from ( \n",
    "--- Its mostly group_concat inplace of string_agg if using mySQL\n",
    "\n",
    "select catefory_id, category , sku_code from ( \n",
    "select  *, row_number() over (partition by category order_by order_count desc ) as rnk \n",
    "from basetable )\n",
    "where rnk <= 3\n",
    ")\n",
    "group by category_id, category\n",
    "),\n",
    "\n",
    "bottom as (\n",
    "select category_id, category, string_agg(sku_code,',') as bottom_sku from (\n",
    "\n",
    "select * from basetable order by order_count limit 3\n",
    "\n",
    ") group by category_id, category\n",
    ")\n",
    "\n",
    "\n",
    "select top.category_id, top.category, top.top_sku, bottom.bottom_sku\n",
    "from top\n",
    "inner join bottom\n",
    "oon top.category_id = bottom.category_id\n"
   ]
  },
  {
   "cell_type": "markdown",
   "id": "e029c6c3",
   "metadata": {},
   "source": [
    "#### Q Find total revenue generated corresponding to each category using following pricing data. Attach the Python/ R code used corresponding to above analysis.(Exclude SKUs whose category data is missing) "
   ]
  },
  {
   "cell_type": "code",
   "execution_count": 71,
   "id": "aeedfe68",
   "metadata": {},
   "outputs": [
    {
     "data": {
      "text/html": [
       "<div>\n",
       "<style scoped>\n",
       "    .dataframe tbody tr th:only-of-type {\n",
       "        vertical-align: middle;\n",
       "    }\n",
       "\n",
       "    .dataframe tbody tr th {\n",
       "        vertical-align: top;\n",
       "    }\n",
       "\n",
       "    .dataframe thead th {\n",
       "        text-align: right;\n",
       "    }\n",
       "</style>\n",
       "<table border=\"1\" class=\"dataframe\">\n",
       "  <thead>\n",
       "    <tr style=\"text-align: right;\">\n",
       "      <th></th>\n",
       "      <th>Category_id</th>\n",
       "      <th>Slab Range for orders</th>\n",
       "      <th>Price per order (Rs.)</th>\n",
       "    </tr>\n",
       "  </thead>\n",
       "  <tbody>\n",
       "    <tr>\n",
       "      <th>0</th>\n",
       "      <td>1,2</td>\n",
       "      <td>1-200</td>\n",
       "      <td>4.0</td>\n",
       "    </tr>\n",
       "    <tr>\n",
       "      <th>1</th>\n",
       "      <td>NaN</td>\n",
       "      <td>201-1000</td>\n",
       "      <td>2.0</td>\n",
       "    </tr>\n",
       "    <tr>\n",
       "      <th>2</th>\n",
       "      <td>NaN</td>\n",
       "      <td>Greater than 1000</td>\n",
       "      <td>1.0</td>\n",
       "    </tr>\n",
       "    <tr>\n",
       "      <th>3</th>\n",
       "      <td>3,4</td>\n",
       "      <td>1-200</td>\n",
       "      <td>10.0</td>\n",
       "    </tr>\n",
       "    <tr>\n",
       "      <th>4</th>\n",
       "      <td>NaN</td>\n",
       "      <td>201-1000</td>\n",
       "      <td>7.5</td>\n",
       "    </tr>\n",
       "    <tr>\n",
       "      <th>5</th>\n",
       "      <td>NaN</td>\n",
       "      <td>Greater than 1000</td>\n",
       "      <td>5.0</td>\n",
       "    </tr>\n",
       "    <tr>\n",
       "      <th>6</th>\n",
       "      <td>All other category_id</td>\n",
       "      <td>1-200</td>\n",
       "      <td>7.0</td>\n",
       "    </tr>\n",
       "    <tr>\n",
       "      <th>7</th>\n",
       "      <td>NaN</td>\n",
       "      <td>201-1000</td>\n",
       "      <td>5.0</td>\n",
       "    </tr>\n",
       "    <tr>\n",
       "      <th>8</th>\n",
       "      <td>NaN</td>\n",
       "      <td>Greater than 1000</td>\n",
       "      <td>2.0</td>\n",
       "    </tr>\n",
       "  </tbody>\n",
       "</table>\n",
       "</div>"
      ],
      "text/plain": [
       "             Category_id Slab Range for orders  Price per order (Rs.)\n",
       "0                    1,2                 1-200                    4.0\n",
       "1                    NaN              201-1000                    2.0\n",
       "2                    NaN     Greater than 1000                    1.0\n",
       "3                    3,4                 1-200                   10.0\n",
       "4                    NaN              201-1000                    7.5\n",
       "5                    NaN     Greater than 1000                    5.0\n",
       "6  All other category_id                 1-200                    7.0\n",
       "7                    NaN              201-1000                    5.0\n",
       "8                    NaN     Greater than 1000                    2.0"
      ]
     },
     "execution_count": 71,
     "metadata": {},
     "output_type": "execute_result"
    }
   ],
   "source": [
    "price_df = pd.read_csv('price_range.csv')\n",
    "price_df\n"
   ]
  },
  {
   "cell_type": "markdown",
   "id": "77c37469",
   "metadata": {},
   "source": [
    "#### Devicing the function for calculating the revenue, thsi function will then mapped to the merged DF"
   ]
  },
  {
   "cell_type": "code",
   "execution_count": 72,
   "id": "1414ae58",
   "metadata": {},
   "outputs": [],
   "source": [
    "category1 = [1,2]\n",
    "category2 = [3,4]\n",
    "\n",
    "def revenue_calc(category_id, order_count):\n",
    "    if category_id in category1:\n",
    "        if order_count in range(1,201):\n",
    "            revenue  = order_count * 4 \n",
    "        elif order_count in range(201,1001):\n",
    "            revenue  = (order_count - 200) * 2 + 200*4\n",
    "        else:\n",
    "            revenue = (order_count-1000) * 1 + 800 * 2 + 200 * 4\n",
    "    elif category_id in category2:\n",
    "        if order_count in range(1,201):\n",
    "            revenue  = order_count * 10 \n",
    "        elif order_count in range(201,1001):\n",
    "            revenue  = (order_count - 200) * 7.5 + 200*10\n",
    "        else:\n",
    "            revenue = (order_count-1000) * 5 + 800 * 7.5 + 200 * 10\n",
    "    else:\n",
    "        if order_count in range(1,201):\n",
    "            revenue  = order_count * 7 \n",
    "        elif order_count in range(201,1001):\n",
    "            revenue  = (order_count - 200) * 7 + 200*7\n",
    "        else:\n",
    "            revenue = (order_count-1000) * 7 + 800 * 5 + 200 * 7\n",
    "    return revenue\n",
    "            "
   ]
  },
  {
   "cell_type": "code",
   "execution_count": 73,
   "id": "13d4f3ac",
   "metadata": {},
   "outputs": [
    {
     "data": {
      "text/plain": [
       "21700"
      ]
     },
     "execution_count": 73,
     "metadata": {},
     "output_type": "execute_result"
    }
   ],
   "source": [
    "order_data.size"
   ]
  },
  {
   "cell_type": "code",
   "execution_count": 74,
   "id": "92b660bb",
   "metadata": {},
   "outputs": [
    {
     "data": {
      "text/plain": [
       "31743"
      ]
     },
     "execution_count": 74,
     "metadata": {},
     "output_type": "execute_result"
    }
   ],
   "source": [
    "category_data.size"
   ]
  },
  {
   "cell_type": "markdown",
   "id": "a1ce1440",
   "metadata": {},
   "source": [
    "#### We will be merging the 2 dfs to get data at a level of category id and category count. Also we are using inner joins so that we have only that data where the sku_code and category mapping exists"
   ]
  },
  {
   "cell_type": "code",
   "execution_count": 75,
   "id": "18ea35ce",
   "metadata": {},
   "outputs": [
    {
     "data": {
      "text/html": [
       "<div>\n",
       "<style scoped>\n",
       "    .dataframe tbody tr th:only-of-type {\n",
       "        vertical-align: middle;\n",
       "    }\n",
       "\n",
       "    .dataframe tbody tr th {\n",
       "        vertical-align: top;\n",
       "    }\n",
       "\n",
       "    .dataframe thead th {\n",
       "        text-align: right;\n",
       "    }\n",
       "</style>\n",
       "<table border=\"1\" class=\"dataframe\">\n",
       "  <thead>\n",
       "    <tr style=\"text-align: right;\">\n",
       "      <th></th>\n",
       "      <th>sku_code</th>\n",
       "      <th>order_count</th>\n",
       "      <th>category_id</th>\n",
       "      <th>category</th>\n",
       "    </tr>\n",
       "  </thead>\n",
       "  <tbody>\n",
       "    <tr>\n",
       "      <th>0</th>\n",
       "      <td>805L</td>\n",
       "      <td>185</td>\n",
       "      <td>4</td>\n",
       "      <td>Fashion &amp; Accessories</td>\n",
       "    </tr>\n",
       "    <tr>\n",
       "      <th>1</th>\n",
       "      <td>JR-202-38</td>\n",
       "      <td>32</td>\n",
       "      <td>4</td>\n",
       "      <td>Fashion &amp; Accessories</td>\n",
       "    </tr>\n",
       "    <tr>\n",
       "      <th>2</th>\n",
       "      <td>K1786_L</td>\n",
       "      <td>69</td>\n",
       "      <td>4</td>\n",
       "      <td>Fashion &amp; Accessories</td>\n",
       "    </tr>\n",
       "    <tr>\n",
       "      <th>3</th>\n",
       "      <td>FDRSS1744XL</td>\n",
       "      <td>6</td>\n",
       "      <td>4</td>\n",
       "      <td>Fashion &amp; Accessories</td>\n",
       "    </tr>\n",
       "    <tr>\n",
       "      <th>4</th>\n",
       "      <td>BMAXBLUSQAR</td>\n",
       "      <td>56</td>\n",
       "      <td>5</td>\n",
       "      <td>FMCG &amp; Agri</td>\n",
       "    </tr>\n",
       "  </tbody>\n",
       "</table>\n",
       "</div>"
      ],
      "text/plain": [
       "      sku_code  order_count  category_id               category\n",
       "0         805L          185            4  Fashion & Accessories\n",
       "1    JR-202-38           32            4  Fashion & Accessories\n",
       "2      K1786_L           69            4  Fashion & Accessories\n",
       "3  FDRSS1744XL            6            4  Fashion & Accessories\n",
       "4  BMAXBLUSQAR           56            5            FMCG & Agri"
      ]
     },
     "execution_count": 75,
     "metadata": {},
     "output_type": "execute_result"
    }
   ],
   "source": [
    "df = pd.merge(order_data, category_data, how = 'inner', on = 'sku_code')\n",
    "df.head()\n"
   ]
  },
  {
   "cell_type": "code",
   "execution_count": 76,
   "id": "cc560ad6",
   "metadata": {},
   "outputs": [
    {
     "data": {
      "text/plain": [
       "42612"
      ]
     },
     "execution_count": 76,
     "metadata": {},
     "output_type": "execute_result"
    }
   ],
   "source": [
    "df.size\n"
   ]
  },
  {
   "cell_type": "code",
   "execution_count": 77,
   "id": "0a34985a",
   "metadata": {},
   "outputs": [],
   "source": [
    "df = df.drop_duplicates()"
   ]
  },
  {
   "cell_type": "code",
   "execution_count": 78,
   "id": "21bb840b",
   "metadata": {},
   "outputs": [
    {
     "data": {
      "text/plain": [
       "42324"
      ]
     },
     "execution_count": 78,
     "metadata": {},
     "output_type": "execute_result"
    }
   ],
   "source": [
    "df.size"
   ]
  },
  {
   "cell_type": "code",
   "execution_count": 79,
   "id": "11a86abf",
   "metadata": {},
   "outputs": [
    {
     "data": {
      "text/plain": [
       "sku_code\n",
       "-8906102430009              1\n",
       "JR-LK-Strip-432-Lemon-38    1\n",
       "JR-LK-Strip-432-Lemon-40    1\n",
       "JR-LK-Strip-432-Lemon-42    1\n",
       "JR-LK-Strip-432-Lemon-44    1\n",
       "                           ..\n",
       "717M                        2\n",
       "691XS                       2\n",
       "192S                        3\n",
       "192M                        3\n",
       "FA4WH001                    3\n",
       "Name: sku_code, Length: 10548, dtype: int64"
      ]
     },
     "execution_count": 79,
     "metadata": {},
     "output_type": "execute_result"
    }
   ],
   "source": [
    "df.groupby(['sku_code'])['sku_code'].count().sort_values()"
   ]
  },
  {
   "cell_type": "code",
   "execution_count": 80,
   "id": "3b75b4ed",
   "metadata": {},
   "outputs": [
    {
     "data": {
      "text/plain": [
       "192S            3\n",
       "192M            3\n",
       "FA4WH001        3\n",
       "717XS           2\n",
       "746XL           2\n",
       "               ..\n",
       "726962607292    1\n",
       "K1913_XXL       1\n",
       "I-1Y46-ROLA     1\n",
       "100002591       1\n",
       "C3463           1\n",
       "Name: sku_code, Length: 10816, dtype: int64"
      ]
     },
     "execution_count": 80,
     "metadata": {},
     "output_type": "execute_result"
    }
   ],
   "source": [
    "order_data.sku_code.value_counts()"
   ]
  },
  {
   "cell_type": "code",
   "execution_count": 81,
   "id": "b4fbbfe5",
   "metadata": {},
   "outputs": [
    {
     "data": {
      "text/plain": [
       "192S              3\n",
       "FA4WH001          3\n",
       "192M              3\n",
       "691S              2\n",
       "691M              2\n",
       "                 ..\n",
       "RS-2160455        1\n",
       "MV-3156228        1\n",
       "LFS18028OGRN-L    1\n",
       "FJCKT6149XL       1\n",
       "C3463             1\n",
       "Name: sku_code, Length: 10548, dtype: int64"
      ]
     },
     "execution_count": 81,
     "metadata": {},
     "output_type": "execute_result"
    }
   ],
   "source": [
    "df.sku_code.value_counts()"
   ]
  },
  {
   "cell_type": "code",
   "execution_count": 82,
   "id": "2be32929",
   "metadata": {},
   "outputs": [
    {
     "data": {
      "text/html": [
       "<div>\n",
       "<style scoped>\n",
       "    .dataframe tbody tr th:only-of-type {\n",
       "        vertical-align: middle;\n",
       "    }\n",
       "\n",
       "    .dataframe tbody tr th {\n",
       "        vertical-align: top;\n",
       "    }\n",
       "\n",
       "    .dataframe thead th {\n",
       "        text-align: right;\n",
       "    }\n",
       "</style>\n",
       "<table border=\"1\" class=\"dataframe\">\n",
       "  <thead>\n",
       "    <tr style=\"text-align: right;\">\n",
       "      <th></th>\n",
       "      <th>sku_code</th>\n",
       "      <th>order_count</th>\n",
       "      <th>category_id</th>\n",
       "      <th>category</th>\n",
       "    </tr>\n",
       "  </thead>\n",
       "  <tbody>\n",
       "    <tr>\n",
       "      <th>3932</th>\n",
       "      <td>192S</td>\n",
       "      <td>14</td>\n",
       "      <td>4</td>\n",
       "      <td>Fashion &amp; Accessories</td>\n",
       "    </tr>\n",
       "    <tr>\n",
       "      <th>3935</th>\n",
       "      <td>192S</td>\n",
       "      <td>5</td>\n",
       "      <td>4</td>\n",
       "      <td>Fashion &amp; Accessories</td>\n",
       "    </tr>\n",
       "    <tr>\n",
       "      <th>3938</th>\n",
       "      <td>192S</td>\n",
       "      <td>7</td>\n",
       "      <td>4</td>\n",
       "      <td>Fashion &amp; Accessories</td>\n",
       "    </tr>\n",
       "  </tbody>\n",
       "</table>\n",
       "</div>"
      ],
      "text/plain": [
       "     sku_code  order_count  category_id               category\n",
       "3932     192S           14            4  Fashion & Accessories\n",
       "3935     192S            5            4  Fashion & Accessories\n",
       "3938     192S            7            4  Fashion & Accessories"
      ]
     },
     "execution_count": 82,
     "metadata": {},
     "output_type": "execute_result"
    }
   ],
   "source": [
    "df[df['sku_code'] == '192S']"
   ]
  },
  {
   "cell_type": "markdown",
   "id": "425d07be",
   "metadata": {},
   "source": [
    "#### Even after removing duplicates after the join we see there has been an explosion and this is due to the fact the initial order data df had multiple values of order_count for same sku, which is possible for different dates but date was not provided. We shall assume whatever is present in the data and go forward is calculating the revenue of each sku for each order"
   ]
  },
  {
   "cell_type": "code",
   "execution_count": 83,
   "id": "55087469",
   "metadata": {},
   "outputs": [
    {
     "name": "stdout",
     "output_type": "stream",
     "text": [
      "<class 'pandas.core.frame.DataFrame'>\n",
      "Int64Index: 10581 entries, 0 to 10652\n",
      "Data columns (total 4 columns):\n",
      " #   Column       Non-Null Count  Dtype \n",
      "---  ------       --------------  ----- \n",
      " 0   sku_code     10581 non-null  object\n",
      " 1   order_count  10581 non-null  int64 \n",
      " 2   category_id  10581 non-null  int64 \n",
      " 3   category     10581 non-null  object\n",
      "dtypes: int64(2), object(2)\n",
      "memory usage: 413.3+ KB\n"
     ]
    }
   ],
   "source": [
    "df.info()"
   ]
  },
  {
   "cell_type": "code",
   "execution_count": 84,
   "id": "6bb3d881",
   "metadata": {},
   "outputs": [
    {
     "data": {
      "text/html": [
       "<div>\n",
       "<style scoped>\n",
       "    .dataframe tbody tr th:only-of-type {\n",
       "        vertical-align: middle;\n",
       "    }\n",
       "\n",
       "    .dataframe tbody tr th {\n",
       "        vertical-align: top;\n",
       "    }\n",
       "\n",
       "    .dataframe thead th {\n",
       "        text-align: right;\n",
       "    }\n",
       "</style>\n",
       "<table border=\"1\" class=\"dataframe\">\n",
       "  <thead>\n",
       "    <tr style=\"text-align: right;\">\n",
       "      <th></th>\n",
       "      <th>sku_code</th>\n",
       "      <th>order_count</th>\n",
       "      <th>category_id</th>\n",
       "      <th>category</th>\n",
       "    </tr>\n",
       "  </thead>\n",
       "  <tbody>\n",
       "    <tr>\n",
       "      <th>0</th>\n",
       "      <td>805L</td>\n",
       "      <td>185</td>\n",
       "      <td>4</td>\n",
       "      <td>Fashion &amp; Accessories</td>\n",
       "    </tr>\n",
       "    <tr>\n",
       "      <th>1</th>\n",
       "      <td>JR-202-38</td>\n",
       "      <td>32</td>\n",
       "      <td>4</td>\n",
       "      <td>Fashion &amp; Accessories</td>\n",
       "    </tr>\n",
       "    <tr>\n",
       "      <th>2</th>\n",
       "      <td>K1786_L</td>\n",
       "      <td>69</td>\n",
       "      <td>4</td>\n",
       "      <td>Fashion &amp; Accessories</td>\n",
       "    </tr>\n",
       "    <tr>\n",
       "      <th>3</th>\n",
       "      <td>FDRSS1744XL</td>\n",
       "      <td>6</td>\n",
       "      <td>4</td>\n",
       "      <td>Fashion &amp; Accessories</td>\n",
       "    </tr>\n",
       "    <tr>\n",
       "      <th>4</th>\n",
       "      <td>BMAXBLUSQAR</td>\n",
       "      <td>56</td>\n",
       "      <td>5</td>\n",
       "      <td>FMCG &amp; Agri</td>\n",
       "    </tr>\n",
       "  </tbody>\n",
       "</table>\n",
       "</div>"
      ],
      "text/plain": [
       "      sku_code  order_count  category_id               category\n",
       "0         805L          185            4  Fashion & Accessories\n",
       "1    JR-202-38           32            4  Fashion & Accessories\n",
       "2      K1786_L           69            4  Fashion & Accessories\n",
       "3  FDRSS1744XL            6            4  Fashion & Accessories\n",
       "4  BMAXBLUSQAR           56            5            FMCG & Agri"
      ]
     },
     "execution_count": 84,
     "metadata": {},
     "output_type": "execute_result"
    }
   ],
   "source": [
    "df.head()"
   ]
  },
  {
   "cell_type": "code",
   "execution_count": 85,
   "id": "240bfdd8",
   "metadata": {},
   "outputs": [],
   "source": [
    "df['revenue'] = list(map(revenue_calc, df['category_id'], df['order_count']))\n"
   ]
  },
  {
   "cell_type": "code",
   "execution_count": 86,
   "id": "90edba9b",
   "metadata": {},
   "outputs": [
    {
     "data": {
      "text/html": [
       "<div>\n",
       "<style scoped>\n",
       "    .dataframe tbody tr th:only-of-type {\n",
       "        vertical-align: middle;\n",
       "    }\n",
       "\n",
       "    .dataframe tbody tr th {\n",
       "        vertical-align: top;\n",
       "    }\n",
       "\n",
       "    .dataframe thead th {\n",
       "        text-align: right;\n",
       "    }\n",
       "</style>\n",
       "<table border=\"1\" class=\"dataframe\">\n",
       "  <thead>\n",
       "    <tr style=\"text-align: right;\">\n",
       "      <th></th>\n",
       "      <th>sku_code</th>\n",
       "      <th>order_count</th>\n",
       "      <th>category_id</th>\n",
       "      <th>category</th>\n",
       "      <th>revenue</th>\n",
       "    </tr>\n",
       "  </thead>\n",
       "  <tbody>\n",
       "    <tr>\n",
       "      <th>0</th>\n",
       "      <td>805L</td>\n",
       "      <td>185</td>\n",
       "      <td>4</td>\n",
       "      <td>Fashion &amp; Accessories</td>\n",
       "      <td>1850.0</td>\n",
       "    </tr>\n",
       "    <tr>\n",
       "      <th>1</th>\n",
       "      <td>JR-202-38</td>\n",
       "      <td>32</td>\n",
       "      <td>4</td>\n",
       "      <td>Fashion &amp; Accessories</td>\n",
       "      <td>320.0</td>\n",
       "    </tr>\n",
       "    <tr>\n",
       "      <th>2</th>\n",
       "      <td>K1786_L</td>\n",
       "      <td>69</td>\n",
       "      <td>4</td>\n",
       "      <td>Fashion &amp; Accessories</td>\n",
       "      <td>690.0</td>\n",
       "    </tr>\n",
       "    <tr>\n",
       "      <th>3</th>\n",
       "      <td>FDRSS1744XL</td>\n",
       "      <td>6</td>\n",
       "      <td>4</td>\n",
       "      <td>Fashion &amp; Accessories</td>\n",
       "      <td>60.0</td>\n",
       "    </tr>\n",
       "    <tr>\n",
       "      <th>4</th>\n",
       "      <td>BMAXBLUSQAR</td>\n",
       "      <td>56</td>\n",
       "      <td>5</td>\n",
       "      <td>FMCG &amp; Agri</td>\n",
       "      <td>392.0</td>\n",
       "    </tr>\n",
       "  </tbody>\n",
       "</table>\n",
       "</div>"
      ],
      "text/plain": [
       "      sku_code  order_count  category_id               category  revenue\n",
       "0         805L          185            4  Fashion & Accessories   1850.0\n",
       "1    JR-202-38           32            4  Fashion & Accessories    320.0\n",
       "2      K1786_L           69            4  Fashion & Accessories    690.0\n",
       "3  FDRSS1744XL            6            4  Fashion & Accessories     60.0\n",
       "4  BMAXBLUSQAR           56            5            FMCG & Agri    392.0"
      ]
     },
     "execution_count": 86,
     "metadata": {},
     "output_type": "execute_result"
    }
   ],
   "source": [
    "df.head()"
   ]
  },
  {
   "cell_type": "code",
   "execution_count": 87,
   "id": "7f9d39ef",
   "metadata": {},
   "outputs": [
    {
     "data": {
      "text/html": [
       "<div>\n",
       "<style scoped>\n",
       "    .dataframe tbody tr th:only-of-type {\n",
       "        vertical-align: middle;\n",
       "    }\n",
       "\n",
       "    .dataframe tbody tr th {\n",
       "        vertical-align: top;\n",
       "    }\n",
       "\n",
       "    .dataframe thead th {\n",
       "        text-align: right;\n",
       "    }\n",
       "</style>\n",
       "<table border=\"1\" class=\"dataframe\">\n",
       "  <thead>\n",
       "    <tr style=\"text-align: right;\">\n",
       "      <th></th>\n",
       "      <th>sku_code</th>\n",
       "      <th>order_count</th>\n",
       "      <th>category_id</th>\n",
       "      <th>category</th>\n",
       "      <th>revenue</th>\n",
       "    </tr>\n",
       "  </thead>\n",
       "  <tbody>\n",
       "    <tr>\n",
       "      <th>4771</th>\n",
       "      <td>28269</td>\n",
       "      <td>20521</td>\n",
       "      <td>3</td>\n",
       "      <td>Eyewear &amp; Accessories</td>\n",
       "      <td>105605.0</td>\n",
       "    </tr>\n",
       "    <tr>\n",
       "      <th>7344</th>\n",
       "      <td>0027888</td>\n",
       "      <td>16162</td>\n",
       "      <td>3</td>\n",
       "      <td>Eyewear &amp; Accessories</td>\n",
       "      <td>83810.0</td>\n",
       "    </tr>\n",
       "    <tr>\n",
       "      <th>5597</th>\n",
       "      <td>35217</td>\n",
       "      <td>8249</td>\n",
       "      <td>3</td>\n",
       "      <td>Eyewear &amp; Accessories</td>\n",
       "      <td>44245.0</td>\n",
       "    </tr>\n",
       "    <tr>\n",
       "      <th>1776</th>\n",
       "      <td>LNTR10S</td>\n",
       "      <td>4662</td>\n",
       "      <td>5</td>\n",
       "      <td>FMCG &amp; Agri</td>\n",
       "      <td>31034.0</td>\n",
       "    </tr>\n",
       "    <tr>\n",
       "      <th>6504</th>\n",
       "      <td>LTRAY10</td>\n",
       "      <td>4662</td>\n",
       "      <td>5</td>\n",
       "      <td>FMCG &amp; Agri</td>\n",
       "      <td>31034.0</td>\n",
       "    </tr>\n",
       "    <tr>\n",
       "      <th>...</th>\n",
       "      <td>...</td>\n",
       "      <td>...</td>\n",
       "      <td>...</td>\n",
       "      <td>...</td>\n",
       "      <td>...</td>\n",
       "    </tr>\n",
       "    <tr>\n",
       "      <th>3003</th>\n",
       "      <td>G1040</td>\n",
       "      <td>5</td>\n",
       "      <td>2</td>\n",
       "      <td>Electronic &amp; Home Appliances</td>\n",
       "      <td>20.0</td>\n",
       "    </tr>\n",
       "    <tr>\n",
       "      <th>9975</th>\n",
       "      <td>L02547</td>\n",
       "      <td>5</td>\n",
       "      <td>2</td>\n",
       "      <td>Electronic &amp; Home Appliances</td>\n",
       "      <td>20.0</td>\n",
       "    </tr>\n",
       "    <tr>\n",
       "      <th>6197</th>\n",
       "      <td>919231002075</td>\n",
       "      <td>5</td>\n",
       "      <td>1</td>\n",
       "      <td>Beauty &amp; Wellness</td>\n",
       "      <td>20.0</td>\n",
       "    </tr>\n",
       "    <tr>\n",
       "      <th>7612</th>\n",
       "      <td>200100833</td>\n",
       "      <td>5</td>\n",
       "      <td>2</td>\n",
       "      <td>Electronic &amp; Home Appliances</td>\n",
       "      <td>20.0</td>\n",
       "    </tr>\n",
       "    <tr>\n",
       "      <th>9242</th>\n",
       "      <td>AV-CC-21-105-1</td>\n",
       "      <td>5</td>\n",
       "      <td>2</td>\n",
       "      <td>Electronic &amp; Home Appliances</td>\n",
       "      <td>20.0</td>\n",
       "    </tr>\n",
       "  </tbody>\n",
       "</table>\n",
       "<p>10581 rows × 5 columns</p>\n",
       "</div>"
      ],
      "text/plain": [
       "            sku_code  order_count  category_id                      category  \\\n",
       "4771           28269        20521            3         Eyewear & Accessories   \n",
       "7344         0027888        16162            3         Eyewear & Accessories   \n",
       "5597           35217         8249            3         Eyewear & Accessories   \n",
       "1776         LNTR10S         4662            5                   FMCG & Agri   \n",
       "6504         LTRAY10         4662            5                   FMCG & Agri   \n",
       "...              ...          ...          ...                           ...   \n",
       "3003           G1040            5            2  Electronic & Home Appliances   \n",
       "9975          L02547            5            2  Electronic & Home Appliances   \n",
       "6197    919231002075            5            1             Beauty & Wellness   \n",
       "7612       200100833            5            2  Electronic & Home Appliances   \n",
       "9242  AV-CC-21-105-1            5            2  Electronic & Home Appliances   \n",
       "\n",
       "       revenue  \n",
       "4771  105605.0  \n",
       "7344   83810.0  \n",
       "5597   44245.0  \n",
       "1776   31034.0  \n",
       "6504   31034.0  \n",
       "...        ...  \n",
       "3003      20.0  \n",
       "9975      20.0  \n",
       "6197      20.0  \n",
       "7612      20.0  \n",
       "9242      20.0  \n",
       "\n",
       "[10581 rows x 5 columns]"
      ]
     },
     "execution_count": 87,
     "metadata": {},
     "output_type": "execute_result"
    }
   ],
   "source": [
    "df.sort_values(by = 'revenue', ascending = False)"
   ]
  },
  {
   "cell_type": "code",
   "execution_count": 88,
   "id": "7333fe1c",
   "metadata": {},
   "outputs": [],
   "source": [
    "revenue_df = df.groupby(['category'])['revenue'].sum()"
   ]
  },
  {
   "cell_type": "code",
   "execution_count": 89,
   "id": "a91e325a",
   "metadata": {},
   "outputs": [
    {
     "data": {
      "text/html": [
       "<div>\n",
       "<style scoped>\n",
       "    .dataframe tbody tr th:only-of-type {\n",
       "        vertical-align: middle;\n",
       "    }\n",
       "\n",
       "    .dataframe tbody tr th {\n",
       "        vertical-align: top;\n",
       "    }\n",
       "\n",
       "    .dataframe thead th {\n",
       "        text-align: right;\n",
       "    }\n",
       "</style>\n",
       "<table border=\"1\" class=\"dataframe\">\n",
       "  <thead>\n",
       "    <tr style=\"text-align: right;\">\n",
       "      <th></th>\n",
       "      <th>category</th>\n",
       "      <th>revenue</th>\n",
       "    </tr>\n",
       "  </thead>\n",
       "  <tbody>\n",
       "    <tr>\n",
       "      <th>0</th>\n",
       "      <td>Beauty &amp; Wellness</td>\n",
       "      <td>166415.0</td>\n",
       "    </tr>\n",
       "    <tr>\n",
       "      <th>1</th>\n",
       "      <td>Electronic &amp; Home Appliances</td>\n",
       "      <td>114053.0</td>\n",
       "    </tr>\n",
       "    <tr>\n",
       "      <th>2</th>\n",
       "      <td>Eyewear &amp; Accessories</td>\n",
       "      <td>312492.5</td>\n",
       "    </tr>\n",
       "    <tr>\n",
       "      <th>3</th>\n",
       "      <td>FMCG &amp; Agri</td>\n",
       "      <td>355676.0</td>\n",
       "    </tr>\n",
       "    <tr>\n",
       "      <th>4</th>\n",
       "      <td>Fashion &amp; Accessories</td>\n",
       "      <td>2744302.5</td>\n",
       "    </tr>\n",
       "    <tr>\n",
       "      <th>5</th>\n",
       "      <td>Health &amp; Pharma</td>\n",
       "      <td>130598.0</td>\n",
       "    </tr>\n",
       "  </tbody>\n",
       "</table>\n",
       "</div>"
      ],
      "text/plain": [
       "                       category    revenue\n",
       "0             Beauty & Wellness   166415.0\n",
       "1  Electronic & Home Appliances   114053.0\n",
       "2         Eyewear & Accessories   312492.5\n",
       "3                   FMCG & Agri   355676.0\n",
       "4         Fashion & Accessories  2744302.5\n",
       "5               Health & Pharma   130598.0"
      ]
     },
     "execution_count": 89,
     "metadata": {},
     "output_type": "execute_result"
    }
   ],
   "source": [
    "revenue_df = pd.DataFrame(revenue_df)\n",
    "revenue_df.reset_index()"
   ]
  },
  {
   "cell_type": "code",
   "execution_count": 90,
   "id": "31ecdce3",
   "metadata": {},
   "outputs": [
    {
     "data": {
      "text/html": [
       "<div>\n",
       "<style scoped>\n",
       "    .dataframe tbody tr th:only-of-type {\n",
       "        vertical-align: middle;\n",
       "    }\n",
       "\n",
       "    .dataframe tbody tr th {\n",
       "        vertical-align: top;\n",
       "    }\n",
       "\n",
       "    .dataframe thead th {\n",
       "        text-align: right;\n",
       "    }\n",
       "</style>\n",
       "<table border=\"1\" class=\"dataframe\">\n",
       "  <thead>\n",
       "    <tr style=\"text-align: right;\">\n",
       "      <th></th>\n",
       "      <th>Revenue(Rs.)</th>\n",
       "    </tr>\n",
       "    <tr>\n",
       "      <th>category</th>\n",
       "      <th></th>\n",
       "    </tr>\n",
       "  </thead>\n",
       "  <tbody>\n",
       "    <tr>\n",
       "      <th>Beauty &amp; Wellness</th>\n",
       "      <td>166415.0</td>\n",
       "    </tr>\n",
       "    <tr>\n",
       "      <th>Electronic &amp; Home Appliances</th>\n",
       "      <td>114053.0</td>\n",
       "    </tr>\n",
       "    <tr>\n",
       "      <th>Eyewear &amp; Accessories</th>\n",
       "      <td>312492.5</td>\n",
       "    </tr>\n",
       "    <tr>\n",
       "      <th>FMCG &amp; Agri</th>\n",
       "      <td>355676.0</td>\n",
       "    </tr>\n",
       "    <tr>\n",
       "      <th>Fashion &amp; Accessories</th>\n",
       "      <td>2744302.5</td>\n",
       "    </tr>\n",
       "    <tr>\n",
       "      <th>Health &amp; Pharma</th>\n",
       "      <td>130598.0</td>\n",
       "    </tr>\n",
       "  </tbody>\n",
       "</table>\n",
       "</div>"
      ],
      "text/plain": [
       "                              Revenue(Rs.)\n",
       "category                                  \n",
       "Beauty & Wellness                 166415.0\n",
       "Electronic & Home Appliances      114053.0\n",
       "Eyewear & Accessories             312492.5\n",
       "FMCG & Agri                       355676.0\n",
       "Fashion & Accessories            2744302.5\n",
       "Health & Pharma                   130598.0"
      ]
     },
     "execution_count": 90,
     "metadata": {},
     "output_type": "execute_result"
    }
   ],
   "source": [
    "revenue_df.rename( columns  =  {'category':'Catgory_code','revenue':'Revenue(Rs.)'}, inplace = True)\n",
    "revenue_df"
   ]
  },
  {
   "cell_type": "code",
   "execution_count": null,
   "id": "b4500362",
   "metadata": {},
   "outputs": [],
   "source": []
  },
  {
   "cell_type": "code",
   "execution_count": null,
   "id": "310ea045",
   "metadata": {},
   "outputs": [],
   "source": []
  },
  {
   "cell_type": "code",
   "execution_count": null,
   "id": "d6eca30e",
   "metadata": {},
   "outputs": [],
   "source": []
  }
 ],
 "metadata": {
  "kernelspec": {
   "display_name": "Python 3",
   "language": "python",
   "name": "python3"
  },
  "language_info": {
   "codemirror_mode": {
    "name": "ipython",
    "version": 3
   },
   "file_extension": ".py",
   "mimetype": "text/x-python",
   "name": "python",
   "nbconvert_exporter": "python",
   "pygments_lexer": "ipython3",
   "version": "3.8.8"
  }
 },
 "nbformat": 4,
 "nbformat_minor": 5
}
